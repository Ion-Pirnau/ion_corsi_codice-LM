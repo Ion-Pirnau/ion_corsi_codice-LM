{
  "cells": [
    {
      "cell_type": "markdown",
      "metadata": {
        "id": "T7Ynqq-xXQ-W"
      },
      "source": [
        "# Alberi decisionali"
      ]
    },
    {
      "cell_type": "code",
      "execution_count": null,
      "metadata": {
        "id": "iPWISWfszTve"
      },
      "outputs": [],
      "source": [
        "# Load libraries\n",
        "import pandas as pd\n",
        "import matplotlib.pyplot as plt\n",
        "from sklearn.tree import DecisionTreeClassifier # Import Decision Tree Classifier\n",
        "from sklearn.model_selection import train_test_split # Import train_test_split function\n",
        "from sklearn import metrics #Import scikit-learn metrics module for accuracy calculation\n",
        "\n"
      ]
    },
    {
      "cell_type": "code",
      "execution_count": null,
      "metadata": {
        "id": "u_t0e3nu24JE"
      },
      "outputs": [],
      "source": [
        "# load dataset\n",
        "df = pd.read_csv(\"diabetes.csv\")\n"
      ]
    },
    {
      "cell_type": "code",
      "execution_count": null,
      "metadata": {
        "id": "An-aN2f92hXg"
      },
      "outputs": [],
      "source": [
        "df.head()\n"
      ]
    },
    {
      "cell_type": "code",
      "execution_count": null,
      "metadata": {
        "id": "8GYxaeFU4AFh"
      },
      "outputs": [],
      "source": [
        "#split dataset in features and target variable\n",
        "feature_cols = ['Pregnancies', 'Insulin', 'BMI', 'Age','Glucose','BloodPressure','DiabetesPedigreeFunction']\n",
        "X = df[feature_cols] # Features\n",
        "y = df.Outcome # Target variable\n"
      ]
    },
    {
      "cell_type": "code",
      "execution_count": null,
      "metadata": {
        "id": "1ggVDCL2Uq5g"
      },
      "outputs": [],
      "source": [
        "X= df.iloc[:,:8] #feature\n",
        "y=df['Outcome'] # target"
      ]
    },
    {
      "cell_type": "code",
      "execution_count": null,
      "metadata": {
        "id": "hf7mhWPqY__W"
      },
      "outputs": [],
      "source": [
        "df.dtypes"
      ]
    },
    {
      "cell_type": "code",
      "execution_count": null,
      "metadata": {
        "id": "ACfEAbME4R-S"
      },
      "outputs": [],
      "source": [
        "# Split dataset into training set and test set\n",
        "X_train, X_test, y_train, y_test = train_test_split(X, y, test_size=0.3, random_state=1) # 70% training and 30% test\n"
      ]
    },
    {
      "cell_type": "markdown",
      "metadata": {
        "id": "T8dSpITQZtbG"
      },
      "source": [
        "## Data exploration"
      ]
    },
    {
      "cell_type": "code",
      "execution_count": null,
      "metadata": {
        "id": "nI-1oA_VY0lP"
      },
      "outputs": [],
      "source": [
        "plt.bar(df[\"Outcome\"].unique(), df[\"Outcome\"].value_counts())\n",
        "plt.xlabel(\"Outcome\")\n",
        "plt.ylabel(\"Frequenza\")\n",
        "plt.title(\"Distribuzione di \\\"Outcome\\\"\")\n",
        "plt.xticks([0, 1])\n",
        "plt.show()"
      ]
    },
    {
      "cell_type": "code",
      "execution_count": null,
      "metadata": {
        "id": "aIQlVvLYbDHV"
      },
      "outputs": [],
      "source": [
        "df['glucose_group'] = pd.cut(df['Glucose'], bins=[0, 125, float('inf')], labels=['Low (<= 120)', 'High (> 120)'])\n",
        "grouped = df.groupby(['glucose_group', 'Outcome']).size().unstack(fill_value=0)\n",
        "grouped.plot(kind='bar', stacked=True)\n",
        "plt.title('Grafico a barre stacked di Glucose Group e Outcome')\n",
        "plt.xlabel('Glucose Group')\n",
        "plt.ylabel('Count')\n",
        "plt.legend(title='Outcome', labels=['0', '1'])\n",
        "plt.show()"
      ]
    },
    {
      "cell_type": "markdown",
      "metadata": {
        "id": "AxxzsIR3wVmW"
      },
      "source": [
        "## Creazione del training set e del test set"
      ]
    },
    {
      "cell_type": "code",
      "execution_count": null,
      "metadata": {
        "id": "0FV73Ips5ICK"
      },
      "outputs": [],
      "source": [
        "feature_names = set(df.columns) - set([\"Outcome\"])\n",
        "list(feature_names)\n"
      ]
    },
    {
      "cell_type": "code",
      "execution_count": null,
      "metadata": {
        "id": "gbNn2gSL-l4k"
      },
      "outputs": [],
      "source": [
        "df=df.drop(['glucose_group'], axis=1)\n",
        "df.head()"
      ]
    },
    {
      "cell_type": "code",
      "execution_count": null,
      "metadata": {
        "id": "Gs3C_wzSu6_R"
      },
      "outputs": [],
      "source": [
        "from sklearn.model_selection import train_test_split\n",
        "\n",
        "feature_names = list(set(df.columns) - set([\"Outcome\"]))\n",
        "\n",
        "target_name = \"Outcome\"\n",
        "\n",
        "X_train, X_test, y_train, y_test = train_test_split(df[feature_names], df[target_name], test_size=0.3, random_state=42)\n",
        "#X_train, X_test, y_train, y_test = train_test_split(df[feature_names], df[target_name], test_size=0.3, random_state=42)"
      ]
    },
    {
      "cell_type": "code",
      "execution_count": null,
      "metadata": {
        "id": "Y6EbXuBTyM6S"
      },
      "outputs": [],
      "source": [
        "print(f\"Numero di record nel training set: {X_train.shape[0]}\")\n",
        "print(f\"Numero di record nel test set: {X_test.shape[0]}\")"
      ]
    },
    {
      "cell_type": "markdown",
      "metadata": {
        "id": "yg4d-iWDzZa8"
      },
      "source": [
        "## Modello di baseline"
      ]
    },
    {
      "cell_type": "markdown",
      "metadata": {
        "id": "jiExdsHQzASM"
      },
      "source": [
        "Vediamo nel training set, e nel test set, quante persone sono sopravvissute"
      ]
    },
    {
      "cell_type": "code",
      "execution_count": null,
      "metadata": {
        "id": "3g9bMR0yzDAv"
      },
      "outputs": [],
      "source": [
        "y_train.value_counts() / y_train.count()"
      ]
    },
    {
      "cell_type": "code",
      "execution_count": null,
      "metadata": {
        "id": "LW1qVMhIzHVu"
      },
      "outputs": [],
      "source": [
        "y_test.value_counts() / y_test.count()"
      ]
    },
    {
      "cell_type": "markdown",
      "metadata": {
        "id": "C3BWbcWZzb7E"
      },
      "source": [
        "Creiamo dunque un semplice classificatore che etichetta sempre negativamente le istanze"
      ]
    },
    {
      "cell_type": "code",
      "execution_count": null,
      "metadata": {
        "id": "zebSywRezKyb"
      },
      "outputs": [],
      "source": [
        "import numpy as np\n",
        "from sklearn.metrics import confusion_matrix\n",
        "\n",
        "# y_pred è un vettore di soli zero (predizioni del modello di baseline)\n",
        "y_pred = np.zeros(y_test.shape)\n",
        "\n",
        "cm = confusion_matrix(y_test, y_pred)\n",
        "\n",
        "print(\"Confusion matrix:\\n\", cm)\n",
        "print(\"\\nAccuracy:\", cm.diagonal().sum() / cm.sum())"
      ]
    },
    {
      "cell_type": "markdown",
      "metadata": {
        "id": "oMdESobR3YTj"
      },
      "source": [
        "## Let's make a better model\n",
        "\n",
        "Come abbiamo mostrato anche in precedenza con il grafico a barre, la maggioranza dei pazienti con Outcome 1 ha livelli di glucosio maggiore di 120."
      ]
    },
    {
      "cell_type": "code",
      "execution_count": null,
      "metadata": {
        "id": "E-PZok6l3taI"
      },
      "outputs": [],
      "source": [
        "# predizione del nuovo modello\n",
        "y_pred = (X_test[\"Glucose\"] > 120).astype(int)\n",
        "\n",
        "cm = confusion_matrix(y_test, y_pred)\n",
        "\n",
        "print(\"Confusion matrix:\\n\", cm)\n",
        "print(\"\\nAccuracy:\", cm.diagonal().sum() / cm.sum())"
      ]
    },
    {
      "cell_type": "markdown",
      "metadata": {
        "id": "qPSxdTC94WEq"
      },
      "source": [
        "Notiamo che le performance sono migliorate"
      ]
    },
    {
      "cell_type": "markdown",
      "metadata": {
        "id": "FHb3dvD54YiE"
      },
      "source": [
        "## Costruiamo un albero decisionale\n"
      ]
    },
    {
      "cell_type": "code",
      "execution_count": null,
      "metadata": {
        "id": "G_w1MUTi5pMz"
      },
      "outputs": [],
      "source": [
        "X_train.head()"
      ]
    },
    {
      "cell_type": "code",
      "execution_count": null,
      "metadata": {
        "id": "NYmVjkEw4DtU"
      },
      "outputs": [],
      "source": [
        "from sklearn.tree import DecisionTreeClassifier, plot_tree\n",
        "\n",
        "model = DecisionTreeClassifier(random_state=42)\n",
        "model = model.fit(X_train, y_train)\n",
        "\n",
        "# Visualizza l'albero decisionale\n",
        "fig, ax = plt.subplots(figsize=(150, 100))\n",
        "plot_tree(model, filled=True, ax=ax)\n",
        "plt.plot()"
      ]
    },
    {
      "cell_type": "markdown",
      "metadata": {
        "id": "YbIkFKA8BA-V"
      },
      "source": [
        "## Inferenza\n"
      ]
    },
    {
      "cell_type": "code",
      "execution_count": null,
      "metadata": {
        "id": "gJ-I6F9EBHFX"
      },
      "outputs": [],
      "source": [
        "# predizione del nuovo modello\n",
        "y_pred = model.predict(X_test)\n",
        "\n",
        "cm = confusion_matrix(y_test, y_pred)\n",
        "\n",
        "print(\"Confusion matrix:\\n\", cm)\n",
        "print(\"\\nAccuracy:\", cm.diagonal().sum() / cm.sum())"
      ]
    },
    {
      "cell_type": "markdown",
      "metadata": {
        "id": "qO1GrPOAY6Bb"
      },
      "source": [
        "##  Costruiamo un albero di decisione  più efficiente ed efficace"
      ]
    },
    {
      "cell_type": "code",
      "execution_count": null,
      "metadata": {
        "id": "LoGVZCpAYG13"
      },
      "outputs": [],
      "source": [
        "prunedModel = DecisionTreeClassifier(random_state=42,max_depth=5, min_samples_split=2)\n",
        "prunedModel = prunedModel.fit(X_train, y_train)\n",
        "\n",
        "# Visualizza l'albero decisionale\n",
        "fig, ax = plt.subplots(figsize=(150, 100))\n",
        "plot_tree(prunedModel, filled=True, ax=ax)\n",
        "plt.plot()"
      ]
    },
    {
      "cell_type": "markdown",
      "metadata": {
        "id": "Y74pdz22gsfi"
      },
      "source": [
        "**Migliore interpretabilità**\n",
        "\n",
        "Per una visualizzazione più comprensibile per l'utente finale creiamo una figura che contenga i percorsi decisionali con i nomi delle variabili"
      ]
    },
    {
      "cell_type": "code",
      "execution_count": null,
      "metadata": {
        "id": "VRJ3bMD-gTJM"
      },
      "outputs": [],
      "source": [
        "pip install graphviz"
      ]
    },
    {
      "cell_type": "code",
      "execution_count": null,
      "metadata": {
        "id": "SyPFicKHgIJA"
      },
      "outputs": [],
      "source": [
        "import graphviz\n",
        "from sklearn.tree import export_graphviz\n",
        "\n",
        "# Esporta l'albero di decisione in formato dot\n",
        "dot_data = export_graphviz(\n",
        "    prunedModel,\n",
        "    out_file=None,  # Non salvare su file, ma generare come stringa\n",
        "    feature_names=X_train.columns,\n",
        "    class_names=[\"yes\", \"no\"],\n",
        "    filled=True,\n",
        "    rounded=True,\n",
        "    special_characters=True\n",
        ")\n",
        "\n",
        "# Usa graphviz per visualizzare l'albero\n",
        "graph = graphviz.Source(dot_data)\n",
        "graph.render(\"diabetes_decision_tree\", format=\"png\", cleanup=True)  # Salva l'immagine come PNG\n",
        "graph.view()  # Mostra l'immagine dell'albero\n"
      ]
    },
    {
      "cell_type": "code",
      "execution_count": null,
      "metadata": {
        "id": "VhcrlDswZi3Q"
      },
      "outputs": [],
      "source": [
        "# predizione del nuovo modello\n",
        "y_pred = prunedModel.predict(X_test)\n",
        "\n",
        "cm = confusion_matrix(y_test, y_pred)\n",
        "\n",
        "print(\"Confusion matrix of the pruned model:\\n\", cm)\n",
        "print(\"\\nAccuracy of the pruned model:\", cm.diagonal().sum() / cm.sum())"
      ]
    },
    {
      "cell_type": "markdown",
      "metadata": {
        "id": "8Z0fFJ3PBvEO"
      },
      "source": [
        "## Parametro di complessità"
      ]
    },
    {
      "cell_type": "markdown",
      "metadata": {
        "id": "TCw516OTCh29"
      },
      "source": [
        "Vediamo come varia l'accuratezza dell'albero decizionale in funzione della complessità dell'albero\n",
        "\n",
        "https://scikit-learn.org/1.5/modules/tree.html#minimal-cost-complexity-pruning"
      ]
    },
    {
      "cell_type": "code",
      "execution_count": null,
      "metadata": {
        "id": "-YyAOupoaEnJ"
      },
      "outputs": [],
      "source": [
        "path = model.cost_complexity_pruning_path(X_train, y_train)\n",
        "\n",
        "ccp_alphas = path.ccp_alphas"
      ]
    },
    {
      "cell_type": "code",
      "execution_count": null,
      "metadata": {
        "id": "09Xujtq4BN0t"
      },
      "outputs": [],
      "source": [
        "# Addestra l'albero decisionale con diversi valori di complessità\n",
        "train_accuracy = []\n",
        "test_accuracy = []\n",
        "for complexity in ccp_alphas:\n",
        "    clf = DecisionTreeClassifier(max_depth=5, ccp_alpha=complexity)\n",
        "    clf.fit(X_train, y_train)\n",
        "    train_accuracy.append(clf.score(X_train, y_train))\n",
        "    test_accuracy.append(clf.score(X_test, y_test))\n",
        "\n",
        "# Plotta l'accuratezza del modello in funzione del parametro di complessità\n",
        "plt.plot(ccp_alphas, train_accuracy, label='Training Accuracy')\n",
        "plt.plot(ccp_alphas, test_accuracy, label='Test Accuracy')\n",
        "plt.xlabel('Complexity Parameter')\n",
        "plt.ylabel('Accuracy')\n",
        "plt.title('Accuracy vs. Complexity Parameter')\n",
        "plt.xscale('log')\n",
        "plt.legend()\n",
        "plt.show()"
      ]
    },
    {
      "cell_type": "markdown",
      "metadata": {
        "id": "uTw9djC5CxAJ"
      },
      "source": [
        "## Assignment\n",
        "\n",
        "1. Disegnare gli alberi tagliati in accordo al parametro di complessità\n",
        "2. Provate a creare  altri alberi modificando i parametri nel costruttore DecisionTreeClassifier(). Ad esempio, cosa succede se si cambiano i criteri di splitting? Come varia l'accuratezza?"
      ]
    }
  ],
  "metadata": {
    "colab": {
      "provenance": []
    },
    "kernelspec": {
      "display_name": "Python 3",
      "name": "python3"
    },
    "language_info": {
      "name": "python"
    }
  },
  "nbformat": 4,
  "nbformat_minor": 0
}
