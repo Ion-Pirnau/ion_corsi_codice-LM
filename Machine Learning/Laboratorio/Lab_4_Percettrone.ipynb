{
  "nbformat": 4,
  "nbformat_minor": 0,
  "metadata": {
    "colab": {
      "provenance": []
    },
    "kernelspec": {
      "name": "python3",
      "display_name": "Python 3"
    },
    "language_info": {
      "name": "python"
    }
  },
  "cells": [
    {
      "cell_type": "markdown",
      "source": [
        "# Percettrone\n",
        "\n",
        "## Dataset"
      ],
      "metadata": {
        "id": "Vus5X89NfLet"
      }
    },
    {
      "cell_type": "markdown",
      "source": [
        "Generiamo un dataset giocattolo per sperimentare con un classificatore percettrone"
      ],
      "metadata": {
        "id": "_Fh5dOlvfOJK"
      }
    },
    {
      "cell_type": "code",
      "execution_count": 92,
      "metadata": {
        "id": "gSifocK8d-be"
      },
      "outputs": [],
      "source": [
        "import pandas as pd\n",
        "import numpy as np\n",
        "\n",
        "\n",
        "def generate_dataset(n, dim, threshold=0.75):\n",
        "    # Generate n points in dim-dimensional space\n",
        "    points = np.random.rand(n, dim)\n",
        "    \n",
        "    # Create a DataFrame from the points\n",
        "    df = pd.DataFrame(points)\n",
        "    \n",
        "    # Assign column names\n",
        "    df.columns = ['x{}'.format(i) for i in range(dim)]\n",
        "\n",
        "    df[\"label\"] = np.where(df.sum(axis=1) < threshold, 0, 1)\n",
        "    \n",
        "    return df"
      ]
    },
    {
      "cell_type": "code",
      "source": [
        "df = generate_dataset(1000, 2, 0.75)"
      ],
      "metadata": {
        "id": "rsaPOfJtfW81"
      },
      "execution_count": 99,
      "outputs": []
    },
    {
      "cell_type": "markdown",
      "source": [
        "## Dataset exploration"
      ],
      "metadata": {
        "id": "JwQ9qx-QgM4J"
      }
    },
    {
      "cell_type": "code",
      "source": [
        "df.head()"
      ],
      "metadata": {
        "colab": {
          "base_uri": "https://localhost:8080/",
          "height": 206
        },
        "id": "uZWNHdYNfby5",
        "outputId": "d71216bb-0454-4c97-9989-33dafc70b194"
      },
      "execution_count": 94,
      "outputs": [
        {
          "output_type": "execute_result",
          "data": {
            "text/plain": [
              "         x0        x1  label\n",
              "0  0.009817  0.281827      0\n",
              "1  0.138452  0.396251      0\n",
              "2  0.976715  0.141698      1\n",
              "3  0.185591  0.484672      0\n",
              "4  0.372549  0.740316      1"
            ],
            "text/html": [
              "\n",
              "  <div id=\"df-f5ee1def-6b12-4a76-a5a9-4719b6aa2c85\">\n",
              "    <div class=\"colab-df-container\">\n",
              "      <div>\n",
              "<style scoped>\n",
              "    .dataframe tbody tr th:only-of-type {\n",
              "        vertical-align: middle;\n",
              "    }\n",
              "\n",
              "    .dataframe tbody tr th {\n",
              "        vertical-align: top;\n",
              "    }\n",
              "\n",
              "    .dataframe thead th {\n",
              "        text-align: right;\n",
              "    }\n",
              "</style>\n",
              "<table border=\"1\" class=\"dataframe\">\n",
              "  <thead>\n",
              "    <tr style=\"text-align: right;\">\n",
              "      <th></th>\n",
              "      <th>x0</th>\n",
              "      <th>x1</th>\n",
              "      <th>label</th>\n",
              "    </tr>\n",
              "  </thead>\n",
              "  <tbody>\n",
              "    <tr>\n",
              "      <th>0</th>\n",
              "      <td>0.009817</td>\n",
              "      <td>0.281827</td>\n",
              "      <td>0</td>\n",
              "    </tr>\n",
              "    <tr>\n",
              "      <th>1</th>\n",
              "      <td>0.138452</td>\n",
              "      <td>0.396251</td>\n",
              "      <td>0</td>\n",
              "    </tr>\n",
              "    <tr>\n",
              "      <th>2</th>\n",
              "      <td>0.976715</td>\n",
              "      <td>0.141698</td>\n",
              "      <td>1</td>\n",
              "    </tr>\n",
              "    <tr>\n",
              "      <th>3</th>\n",
              "      <td>0.185591</td>\n",
              "      <td>0.484672</td>\n",
              "      <td>0</td>\n",
              "    </tr>\n",
              "    <tr>\n",
              "      <th>4</th>\n",
              "      <td>0.372549</td>\n",
              "      <td>0.740316</td>\n",
              "      <td>1</td>\n",
              "    </tr>\n",
              "  </tbody>\n",
              "</table>\n",
              "</div>\n",
              "      <button class=\"colab-df-convert\" onclick=\"convertToInteractive('df-f5ee1def-6b12-4a76-a5a9-4719b6aa2c85')\"\n",
              "              title=\"Convert this dataframe to an interactive table.\"\n",
              "              style=\"display:none;\">\n",
              "        \n",
              "  <svg xmlns=\"http://www.w3.org/2000/svg\" height=\"24px\"viewBox=\"0 0 24 24\"\n",
              "       width=\"24px\">\n",
              "    <path d=\"M0 0h24v24H0V0z\" fill=\"none\"/>\n",
              "    <path d=\"M18.56 5.44l.94 2.06.94-2.06 2.06-.94-2.06-.94-.94-2.06-.94 2.06-2.06.94zm-11 1L8.5 8.5l.94-2.06 2.06-.94-2.06-.94L8.5 2.5l-.94 2.06-2.06.94zm10 10l.94 2.06.94-2.06 2.06-.94-2.06-.94-.94-2.06-.94 2.06-2.06.94z\"/><path d=\"M17.41 7.96l-1.37-1.37c-.4-.4-.92-.59-1.43-.59-.52 0-1.04.2-1.43.59L10.3 9.45l-7.72 7.72c-.78.78-.78 2.05 0 2.83L4 21.41c.39.39.9.59 1.41.59.51 0 1.02-.2 1.41-.59l7.78-7.78 2.81-2.81c.8-.78.8-2.07 0-2.86zM5.41 20L4 18.59l7.72-7.72 1.47 1.35L5.41 20z\"/>\n",
              "  </svg>\n",
              "      </button>\n",
              "      \n",
              "  <style>\n",
              "    .colab-df-container {\n",
              "      display:flex;\n",
              "      flex-wrap:wrap;\n",
              "      gap: 12px;\n",
              "    }\n",
              "\n",
              "    .colab-df-convert {\n",
              "      background-color: #E8F0FE;\n",
              "      border: none;\n",
              "      border-radius: 50%;\n",
              "      cursor: pointer;\n",
              "      display: none;\n",
              "      fill: #1967D2;\n",
              "      height: 32px;\n",
              "      padding: 0 0 0 0;\n",
              "      width: 32px;\n",
              "    }\n",
              "\n",
              "    .colab-df-convert:hover {\n",
              "      background-color: #E2EBFA;\n",
              "      box-shadow: 0px 1px 2px rgba(60, 64, 67, 0.3), 0px 1px 3px 1px rgba(60, 64, 67, 0.15);\n",
              "      fill: #174EA6;\n",
              "    }\n",
              "\n",
              "    [theme=dark] .colab-df-convert {\n",
              "      background-color: #3B4455;\n",
              "      fill: #D2E3FC;\n",
              "    }\n",
              "\n",
              "    [theme=dark] .colab-df-convert:hover {\n",
              "      background-color: #434B5C;\n",
              "      box-shadow: 0px 1px 3px 1px rgba(0, 0, 0, 0.15);\n",
              "      filter: drop-shadow(0px 1px 2px rgba(0, 0, 0, 0.3));\n",
              "      fill: #FFFFFF;\n",
              "    }\n",
              "  </style>\n",
              "\n",
              "      <script>\n",
              "        const buttonEl =\n",
              "          document.querySelector('#df-f5ee1def-6b12-4a76-a5a9-4719b6aa2c85 button.colab-df-convert');\n",
              "        buttonEl.style.display =\n",
              "          google.colab.kernel.accessAllowed ? 'block' : 'none';\n",
              "\n",
              "        async function convertToInteractive(key) {\n",
              "          const element = document.querySelector('#df-f5ee1def-6b12-4a76-a5a9-4719b6aa2c85');\n",
              "          const dataTable =\n",
              "            await google.colab.kernel.invokeFunction('convertToInteractive',\n",
              "                                                     [key], {});\n",
              "          if (!dataTable) return;\n",
              "\n",
              "          const docLinkHtml = 'Like what you see? Visit the ' +\n",
              "            '<a target=\"_blank\" href=https://colab.research.google.com/notebooks/data_table.ipynb>data table notebook</a>'\n",
              "            + ' to learn more about interactive tables.';\n",
              "          element.innerHTML = '';\n",
              "          dataTable['output_type'] = 'display_data';\n",
              "          await google.colab.output.renderOutput(dataTable, element);\n",
              "          const docLink = document.createElement('div');\n",
              "          docLink.innerHTML = docLinkHtml;\n",
              "          element.appendChild(docLink);\n",
              "        }\n",
              "      </script>\n",
              "    </div>\n",
              "  </div>\n",
              "  "
            ]
          },
          "metadata": {},
          "execution_count": 94
        }
      ]
    },
    {
      "cell_type": "code",
      "source": [
        "import matplotlib.pyplot as plt\n",
        "\n",
        "plt.bar(df[\"label\"].unique(), df[\"label\"].value_counts())\n",
        "plt.ylabel(\"Frequenza\")\n",
        "plt.xlabel(\"Label\")\n",
        "plt.xticks([0, 1])\n",
        "plt.show()"
      ],
      "metadata": {
        "colab": {
          "base_uri": "https://localhost:8080/",
          "height": 279
        },
        "id": "irFN-vXffl2K",
        "outputId": "f230aaef-898b-480f-b22e-eb894324a88a"
      },
      "execution_count": 96,
      "outputs": [
        {
          "output_type": "display_data",
          "data": {
            "text/plain": [
              "<Figure size 432x288 with 1 Axes>"
            ],
            "image/png": "[encoded data removed]"
          },
          "metadata": {
            "needs_background": "light"
          }
        }
      ]
    },
    {
      "cell_type": "code",
      "source": [
        "# dividiamo il DataFrame in due sotto-DataFrame in base alla label\n",
        "df_pos = df[df['label'] == 1]\n",
        "df_neg = df[df['label'] == 0]\n",
        "\n",
        "# plot degli scatter plot per i due sotto-DataFrame\n",
        "fig, ax = plt.subplots()\n",
        "ax.scatter(df_pos['x0'], df_pos['x1'], c='green', label='positive')\n",
        "ax.scatter(df_neg['x0'], df_neg['x1'], c='red', label='negative')\n",
        "\n",
        "ax.legend()\n",
        "ax.set_xlabel('x0')\n",
        "ax.set_ylabel('x1')\n",
        "\n",
        "plt.show()"
      ],
      "metadata": {
        "colab": {
          "base_uri": "https://localhost:8080/",
          "height": 279
        },
        "id": "pbqZuPpRfoIr",
        "outputId": "bd971769-a2ca-4c27-97fa-fabc25340f0d"
      },
      "execution_count": 97,
      "outputs": [
        {
          "output_type": "display_data",
          "data": {
            "text/plain": [
              "<Figure size 432x288 with 1 Axes>"
            ],
            "image/png": "[encoded data removed]"
          },
          "metadata": {
            "needs_background": "light"
          }
        }
      ]
    },
    {
      "cell_type": "markdown",
      "source": [
        "In questo laboratorio dovrai implementare il percettrone, seguendo questo pseudocodice:\n",
        "<br><br>\n",
        "\n",
        "**def** funzione(data, threshold) {\n",
        "\n",
        "1. Initialize the weights: w0=-threshold, w1,w2 random\n",
        "\n",
        "2. Set a control variable for convergence\n",
        "\n",
        "3. Check convergency: all instances shluld be correctly classified.\n",
        "\n",
        "  3a. Adjust weights for misclassified instances\n",
        "\n",
        "4. return weights\n",
        "\n",
        "}"
      ],
      "metadata": {
        "id": "3Noflgksn_8S"
      }
    },
    {
      "cell_type": "code",
      "source": [
        "def funzione():\n",
        "  # scrivi qua il codice\n",
        "  pass"
      ],
      "metadata": {
        "id": "jbOgSV9dgm1U"
      },
      "execution_count": null,
      "outputs": []
    }
  ]
}